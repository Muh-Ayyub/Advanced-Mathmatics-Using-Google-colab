{
  "nbformat": 4,
  "nbformat_minor": 0,
  "metadata": {
    "colab": {
      "provenance": [],
      "authorship_tag": "ABX9TyOgD1VF/ycxBVHW8r7XfSTu",
      "include_colab_link": true
    },
    "kernelspec": {
      "name": "python3",
      "display_name": "Python 3"
    },
    "language_info": {
      "name": "python"
    }
  },
  "cells": [
    {
      "cell_type": "markdown",
      "metadata": {
        "id": "view-in-github",
        "colab_type": "text"
      },
      "source": [
        "<a href=\"https://colab.research.google.com/github/SaltedTacos/Project-1/blob/main/CM2607_Coursework.ipynb\" target=\"_parent\"><img src=\"https://colab.research.google.com/assets/colab-badge.svg\" alt=\"Open In Colab\"/></a>"
      ]
    },
    {
      "cell_type": "code",
      "execution_count": 2,
      "metadata": {
        "id": "k9aVSZxSuzCV"
      },
      "outputs": [],
      "source": [
        "import numpy as np\n",
        "import matplotlib.pyplot as plt\n",
        "import sympy as sym"
      ]
    },
    {
      "cell_type": "code",
      "source": [
        "#Question 1a - Working\n",
        "x,y = sym.symbols('x y')\n",
        "\n",
        "f = (sym.exp((x**2)+(y**2))+sym.cos(x*y))\n",
        "\n",
        "f_xdiff = f.diff(x)\n",
        "f_ydiff = f.diff(y)"
      ],
      "metadata": {
        "id": "HXNBccknw1Y2"
      },
      "execution_count": 3,
      "outputs": []
    },
    {
      "cell_type": "code",
      "source": [
        "#Question 1a - Answer\n",
        "print(\"The partial differentiation of x: \")\n",
        "\n",
        "f_xdiff"
      ],
      "metadata": {
        "colab": {
          "base_uri": "https://localhost:8080/",
          "height": 58
        },
        "id": "4I_Pbj4E3q_u",
        "outputId": "b5f9740c-9278-4bd0-cb0c-cf12e53ad2e4"
      },
      "execution_count": 4,
      "outputs": [
        {
          "output_type": "stream",
          "name": "stdout",
          "text": [
            "The partial differentiation of x: \n"
          ]
        },
        {
          "output_type": "execute_result",
          "data": {
            "text/plain": [
              "2*x*exp(x**2 + y**2) - y*sin(x*y)"
            ],
            "text/latex": "$\\displaystyle 2 x e^{x^{2} + y^{2}} - y \\sin{\\left(x y \\right)}$"
          },
          "metadata": {},
          "execution_count": 4
        }
      ]
    },
    {
      "cell_type": "code",
      "source": [
        "#Question 1a - Answer\n",
        "print(\"The partial differentiation of y: \")\n",
        "\n",
        "f_ydiff"
      ],
      "metadata": {
        "colab": {
          "base_uri": "https://localhost:8080/",
          "height": 58
        },
        "id": "A3szWpoE6VLU",
        "outputId": "5d4be6ac-5b24-45f2-89bc-8775d8b6121e"
      },
      "execution_count": 5,
      "outputs": [
        {
          "output_type": "stream",
          "name": "stdout",
          "text": [
            "The partial differentiation of y: \n"
          ]
        },
        {
          "output_type": "execute_result",
          "data": {
            "text/plain": [
              "-x*sin(x*y) + 2*y*exp(x**2 + y**2)"
            ],
            "text/latex": "$\\displaystyle - x \\sin{\\left(x y \\right)} + 2 y e^{x^{2} + y^{2}}$"
          },
          "metadata": {},
          "execution_count": 5
        }
      ]
    },
    {
      "cell_type": "code",
      "source": [
        "#Question 1b - working\n",
        "def calc_GradientVector():\n",
        "\n",
        "  x_input = input(\"Enter the value of x: \")\n",
        "  y_input = input(\"Enter the value of y: \")\n",
        "\n",
        "  x_vector = f_xdiff.subs({x: x_input, y: y_input})\n",
        "  y_vector = f_ydiff.subs({x: x_input, y: y_input})\n",
        "\n",
        "  x_vector = sym.N(x_vector,4)\n",
        "  y_vector = sym.N(y_vector,4)\n",
        "\n",
        "  gradient_vector = [x_vector, y_vector]\n",
        "\n",
        "  return gradient_vector"
      ],
      "metadata": {
        "id": "RPc15D9J6gG8"
      },
      "execution_count": 24,
      "outputs": []
    },
    {
      "cell_type": "code",
      "source": [
        "#Question 1b - answer\n",
        "print(calc_GradientVector())"
      ],
      "metadata": {
        "colab": {
          "base_uri": "https://localhost:8080/"
        },
        "id": "VRSeh0Zl-rzB",
        "outputId": "b10e1b8b-1ffe-4cf5-e832-d2a17f05a25d"
      },
      "execution_count": 25,
      "outputs": [
        {
          "output_type": "stream",
          "name": "stdout",
          "text": [
            "Enter the value of x: 1\n",
            "Enter the value of y: 2\n",
            "[295.0, 592.7]\n"
          ]
        }
      ]
    },
    {
      "cell_type": "code",
      "source": [
        "#Question 1c - working\n"
      ],
      "metadata": {
        "id": "xDmJfc78nnRM"
      },
      "execution_count": null,
      "outputs": []
    },
    {
      "cell_type": "code",
      "source": [
        "#Question 1c - answer"
      ],
      "metadata": {
        "id": "agyqaDACpT1_"
      },
      "execution_count": null,
      "outputs": []
    },
    {
      "cell_type": "code",
      "source": [
        "#Question 1d - working"
      ],
      "metadata": {
        "id": "my2578_5pPxd"
      },
      "execution_count": null,
      "outputs": []
    },
    {
      "cell_type": "code",
      "source": [
        "#Question 1d - answer"
      ],
      "metadata": {
        "id": "0ziaEZ-wpWVA"
      },
      "execution_count": null,
      "outputs": []
    },
    {
      "cell_type": "code",
      "source": [
        "#Question 2a - working\n",
        "t = sym.Symbol('t')\n",
        "f = (2*(t**2))*(sym.exp(-t))\n",
        "f_xintg = sym.integrate(f,(t,0,4))"
      ],
      "metadata": {
        "id": "MUn7h3GqpZGj"
      },
      "execution_count": 26,
      "outputs": []
    },
    {
      "cell_type": "code",
      "source": [
        "#Question 2a - answer\n",
        "f_xintg"
      ],
      "metadata": {
        "colab": {
          "base_uri": "https://localhost:8080/",
          "height": 51
        },
        "id": "mFBWOUQ5pqmW",
        "outputId": "4048b5a1-a800-492b-9f45-8ed6bf4ac944"
      },
      "execution_count": 28,
      "outputs": [
        {
          "output_type": "execute_result",
          "data": {
            "text/plain": [
              "4 - 52*exp(-4)"
            ],
            "text/latex": "$\\displaystyle 4 - \\frac{52}{e^{4}}$"
          },
          "metadata": {},
          "execution_count": 28
        }
      ]
    },
    {
      "cell_type": "code",
      "source": [
        "#Question 2b - answer and working\n",
        "x_values = np.linspace(0,4,100)\n",
        "y_values = ((2*(x_values**2))*(np.exp(-x_values)))\n",
        "plt.fill_between(x_values,y_values,label=\"Area under A(t)\")\n",
        "\n",
        "plt.title(\"Amplitude Function and Area Under the Curve\")\n",
        "plt.xlabel(\"t (time)\")\n",
        "plt.ylabel(\"A(t)\")\n",
        "plt.legend()\n",
        "\n",
        "plt.show()"
      ],
      "metadata": {
        "colab": {
          "base_uri": "https://localhost:8080/",
          "height": 472
        },
        "id": "nFOlxN5IpvHl",
        "outputId": "ec84995c-1457-4408-a3a1-b88cbd3b5b20"
      },
      "execution_count": 35,
      "outputs": [
        {
          "output_type": "display_data",
          "data": {
            "text/plain": [
              "<Figure size 640x480 with 1 Axes>"
            ],
            "image/png": "[encoded data removed]"
          },
          "metadata": {}
        }
      ]
    },
    {
      "cell_type": "code",
      "source": [
        "#Question 2c - answer"
      ],
      "metadata": {
        "id": "Wy2K9YXCrSBp"
      },
      "execution_count": null,
      "outputs": []
    }
  ]
}